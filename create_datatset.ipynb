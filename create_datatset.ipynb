{
 "cells": [
  {
   "cell_type": "code",
   "execution_count": 1,
   "metadata": {
    "id": "HTQl8c-vfpcd"
   },
   "outputs": [],
   "source": [
    "import cv2\n",
    "import matplotlib.pyplot as plt\n",
    "import math\n",
    "\n",
    "import numpy as np\n",
    "\n",
    "import torch\n",
    "import torchvision\n",
    "from torchvision import transforms, utils\n",
    "import torch.nn as nn\n",
    "\n",
    "import os\n",
    "import pandas as pd\n",
    "from skimage import io, transform\n",
    "from torch.utils.data import Dataset, DataLoader\n",
    "\n",
    "import csv"
   ]
  },
  {
   "cell_type": "code",
   "execution_count": 2,
   "metadata": {
    "colab": {
     "base_uri": "https://localhost:8080/"
    },
    "id": "ZxdN9SDmMqLi",
    "outputId": "c5d3c219-9211-4d26-a16f-9c47c50746d9"
   },
   "outputs": [],
   "source": [
    "#!pip install selectivesearch"
   ]
  },
  {
   "cell_type": "code",
   "execution_count": 2,
   "metadata": {
    "id": "liU9q02nMuzA"
   },
   "outputs": [],
   "source": [
    "import selectivesearch"
   ]
  },
  {
   "cell_type": "code",
   "execution_count": 3,
   "metadata": {
    "id": "X1Kl0-VqgEq-"
   },
   "outputs": [],
   "source": [
    "cv2.setUseOptimized(True);\n",
    "cv2.setNumThreads(4);"
   ]
  },
  {
   "cell_type": "code",
   "execution_count": null,
   "metadata": {},
   "outputs": [],
   "source": [
    "ldir = os.listdir('./tiny-imagenet-200/train')\n",
    "ldir = ldir[1:]"
   ]
  },
  {
   "cell_type": "code",
   "execution_count": 22,
   "metadata": {
    "id": "F736mZb1h646"
   },
   "outputs": [],
   "source": [
    "def create_dataset(dir_path, boxes_file_path):\n",
    "    with open(boxes_file_path, mode=\"a\") as w_file:\n",
    "        file_writer = csv.writer(w_file, delimiter=\",\", lineterminator=\"\\r\")\n",
    "        for root, dirs, files in os.walk(dir_path):\n",
    "            for f in files:\n",
    "                if f.endswith('.JPEG'):\n",
    "                    im_name = os.path.join(root, f)\n",
    "                    im = cv2.imread(im_name)\n",
    "                    new_height = 200\n",
    "                    new_width = int(im.shape[1]*200/im.shape[0])\n",
    "                    new_im = cv2.resize(im, (new_width, new_height))\n",
    "\n",
    "                    im_lbl, regions = selectivesearch.selective_search(new_im, scale=600, min_size=60)\n",
    "                    candidates = set()\n",
    "                    for r in regions:\n",
    "                        if r['rect'] in candidates: continue\n",
    "                        x, y, w, h = r['rect']\n",
    "                        if r['size'] < 450: continue\n",
    "                        if h == 0 or w == 0: continue\n",
    "                        if w/h > 1.8 or h/w > 1.8: continue\n",
    "                        candidates.add(r['rect'])\n",
    "\n",
    "                    candidates_scaled = []\n",
    "                    for x, y, w, h in candidates:\n",
    "                        x_scaled = int(x*im.shape[1]/new_width)\n",
    "                        y_scaled = int(y*im.shape[0]/new_height)\n",
    "                        w_scaled = int(w*im.shape[1]/new_width)\n",
    "                        h_scaled = int(h*im.shape[0]/new_height)\n",
    "                        candidates_scaled.append(x_scaled)\n",
    "                        candidates_scaled.append(y_scaled)\n",
    "                        candidates_scaled.append(w_scaled)\n",
    "                        candidates_scaled.append(h_scaled)\n",
    "\n",
    "                    file_writer.writerow([im_name]+candidates_scaled)\n"
   ]
  },
  {
   "cell_type": "code",
   "execution_count": 23,
   "metadata": {
    "id": "JzlxJdxK2u0W"
   },
   "outputs": [],
   "source": [
    "bpath = './tiny-imagenet-200/train/boxes.csv'"
   ]
  },
  {
   "cell_type": "code",
   "execution_count": null,
   "metadata": {
    "colab": {
     "base_uri": "https://localhost:8080/"
    },
    "id": "PkVNHwb_2-WK",
    "outputId": "c612b7d6-52ec-4953-ddda-d5a9ba15a6b7"
   },
   "outputs": [],
   "source": [
    "for d in ldir:\n",
    "    cont_path = './tiny-imagenet-200/train/' + d\n",
    "    create_dataset(cont_path, bpath)"
   ]
  }
 ],
 "metadata": {
  "colab": {
   "provenance": []
  },
  "kernelspec": {
   "display_name": "Python 3 (ipykernel)",
   "language": "python",
   "name": "python3"
  },
  "language_info": {
   "codemirror_mode": {
    "name": "ipython",
    "version": 3
   },
   "file_extension": ".py",
   "mimetype": "text/x-python",
   "name": "python",
   "nbconvert_exporter": "python",
   "pygments_lexer": "ipython3",
   "version": "3.9.13"
  }
 },
 "nbformat": 4,
 "nbformat_minor": 1
}
